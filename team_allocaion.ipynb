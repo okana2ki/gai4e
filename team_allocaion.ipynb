{
  "nbformat": 4,
  "nbformat_minor": 0,
  "metadata": {
    "colab": {
      "provenance": [],
      "mount_file_id": "1FKjHohLAUPtE-DZhOgdttltYZh9SbQAQ",
      "authorship_tag": "ABX9TyPDFStJWhigJRQdu/7ZHeqx",
      "include_colab_link": true
    },
    "kernelspec": {
      "name": "python3",
      "display_name": "Python 3"
    },
    "language_info": {
      "name": "python"
    }
  },
  "cells": [
    {
      "cell_type": "markdown",
      "metadata": {
        "id": "view-in-github",
        "colab_type": "text"
      },
      "source": [
        "<a href=\"https://colab.research.google.com/github/okana2ki/gai4e/blob/main/team_allocaion.ipynb\" target=\"_parent\"><img src=\"https://colab.research.google.com/assets/colab-badge.svg\" alt=\"Open In Colab\"/></a>"
      ]
    },
    {
      "cell_type": "markdown",
      "source": [
        "# Text Embeddingを用いたチーム編成"
      ],
      "metadata": {
        "id": "rNGdmniviOAY"
      }
    },
    {
      "cell_type": "markdown",
      "source": [
        "## 準備"
      ],
      "metadata": {
        "id": "94mUM85oV5BF"
      }
    },
    {
      "cell_type": "markdown",
      "source": [
        "### 日本語で利用可能なtext embeddingモデルの例"
      ],
      "metadata": {
        "id": "CIF1pfaKTC_D"
      }
    },
    {
      "cell_type": "markdown",
      "source": [
        "以下は、日本語で利用可能なtext embeddingモデルの例です（出典：NLP204チュートリアル, 松田寛）\n",
        "\n",
        "日本語のモデル：\n",
        "\n",
        "[SimCSE](https://aclanthology.org/2021.emnlp-main.552/), Gao+ (2021/04)\n",
        "をベースにしたもの\n",
        "\n",
        "> [Japanese SimCSE (BERT-base)](https://huggingface.co/pkshatech/simcse-ja-bert-base-clcmlp/blob/main/README_JA.md) (2022/12)\n",
        "\n",
        "> [Japanese Simple-SimCSE](https://github.com/hppRC/simple-simcse-ja?tab=readme-ov-file), Tsukagoshi+ (2023/10)\n",
        "\n",
        "[ColBERT](https://arxiv.org/abs/2004.12832), Khattab+ (2020/04)\n",
        "をベースにしたもの\n",
        "\n",
        "> [JaColBERT](https://huggingface.co/bclavie/JaColBERT), Clavié (2023/12)\n",
        "\n",
        "多言語モデルの例：\n",
        "\n",
        "> [multilingual-e5-large](https://huggingface.co/intfloat/multilingual-e5-large), Wang+ (2024/02)\n"
      ],
      "metadata": {
        "id": "B1djts_skoHL"
      }
    },
    {
      "cell_type": "markdown",
      "source": [
        "### Japanese SimCSE (BERT-base) モデルのロード"
      ],
      "metadata": {
        "id": "7E_Tq2eWTS-7"
      }
    },
    {
      "cell_type": "markdown",
      "source": [
        " このノートブックでは、text embeddingモデルとして、[Japanese SimCSE (BERT-base) ](https://huggingface.co/pkshatech/simcse-ja-bert-base-clcmlp/blob/main/README_JA.md) を使用します。\n",
        "\n",
        " sentence-transformersを使って、このモデルを簡単に利用することができます。トークナイズのために、fugashiとunidic-liteが必要です。まず、下記のように、pipでsentence-transformersとfugashi, unidic-liteをインストールします。"
      ],
      "metadata": {
        "id": "5hURi1rLktw0"
      }
    },
    {
      "cell_type": "code",
      "execution_count": null,
      "metadata": {
        "id": "Bg6q6djciIHi"
      },
      "outputs": [],
      "source": [
        "!pip install -U fugashi[unidic-lite]\n",
        "!pip install -U sentence-transformers"
      ]
    },
    {
      "cell_type": "code",
      "source": [
        "from sentence_transformers import SentenceTransformer\n",
        "\n",
        "model = SentenceTransformer('pkshatech/simcse-ja-bert-base-clcmlp')"
      ],
      "metadata": {
        "id": "6eUWyVSOGTSa"
      },
      "execution_count": null,
      "outputs": []
    },
    {
      "cell_type": "markdown",
      "source": [
        "### モデルを利用した埋め込み (embedding) 作成例"
      ],
      "metadata": {
        "id": "g-J10qcJUKg_"
      }
    },
    {
      "cell_type": "code",
      "source": [
        "sentences = [\n",
        "    \"PKSHA Technologyは機械学習/深層学習技術に関わるアルゴリズムソリューションを展開している。\",\n",
        "    \"この深層学習モデルはPKSHA Technologyによって学習され、公開された。\",\n",
        "    \"広目天は、仏教における四天王の一尊であり、サンスクリット語の「種々の眼をした者」を名前の由来とする。\",\n",
        "]\n",
        "\n",
        "embeddings = model.encode(sentences)\n",
        "print(embeddings)"
      ],
      "metadata": {
        "id": "AdppjDgYIqdP"
      },
      "execution_count": null,
      "outputs": []
    },
    {
      "cell_type": "markdown",
      "source": [
        "### 類似度はcosine類似度がお勧め\n",
        "\n",
        "Japanese SimCSE (BERT-base) モデルは、学習時の損失関数にcosine類似度を使っているため、下流のタスクで**cosine類似度を類似度計算に使うことをおすすめ**します。とのとです。"
      ],
      "metadata": {
        "id": "NleuiRLrU9Vd"
      }
    },
    {
      "cell_type": "markdown",
      "source": [
        "## アンケート情報の読み込みと埋め込みへの変換"
      ],
      "metadata": {
        "id": "cXGPlraJVyEr"
      }
    },
    {
      "cell_type": "code",
      "source": [
        "# prompt: グーグルドライブ上のCSVファイルを読み込む→Colabのローカルファイル読み込みに変更\n",
        "\n",
        "from google.colab import drive\n",
        "import pandas as pd\n",
        "\n",
        "# Google Driveをマウント\n",
        "# drive.mount('/content/drive')\n",
        "\n",
        "# CSVファイルのパスを指定\n",
        "file_path = '/content/form_data.csv' # ここに自分のファイルパスを指定してください\n",
        "\n",
        "# CSVファイルを読み込む\n",
        "try:\n",
        "  df = pd.read_csv(file_path)\n",
        "except FileNotFoundError:\n",
        "  print(f\"Error: File not found at {file_path}\")\n",
        "  exit()\n",
        "except pd.errors.ParserError:\n",
        "  print(f\"Error: Could not parse the CSV file at {file_path}. Check the file format.\")\n",
        "  exit()\n",
        "\n",
        "#アンケートのテキストデータの列名を指定してください\n",
        "#text_column = 'text' # 例: 'アンケート回答'\n",
        "text_column = df.columns[2]  # 左から3列目を指定\n",
        "\n",
        "# テキストデータをエンコード\n",
        "if text_column in df.columns:\n",
        "    embeddings = model.encode(df[text_column].tolist())\n",
        "    df['embeddings'] = embeddings.tolist() # エンベディングを新しい列として追加\n",
        "    print(df.head())\n",
        "else:\n",
        "  print(f\"Error: Column '{text_column}' not found in the CSV file.\")\n"
      ],
      "metadata": {
        "id": "lJhjkC7DslNR"
      },
      "execution_count": null,
      "outputs": []
    },
    {
      "cell_type": "markdown",
      "source": [
        "## コサイン類似度で階層的クラスタリング"
      ],
      "metadata": {
        "id": "6Lgvt1Ylztdl"
      }
    },
    {
      "cell_type": "code",
      "source": [
        "# prompt: コサイン類似度で階層的クラスタリングを行い、デンドログラムを表示して下さい。\n",
        "\n",
        "import numpy as np\n",
        "from sklearn.metrics.pairwise import cosine_similarity\n",
        "from scipy.cluster.hierarchy import linkage, dendrogram\n",
        "import matplotlib.pyplot as plt\n",
        "\n",
        "# Assuming 'embeddings' column exists in the DataFrame 'df'\n",
        "if 'embeddings' in df.columns:\n",
        "    # Convert embeddings to numpy array\n",
        "    embeddings_array = np.array(df['embeddings'].tolist())\n",
        "\n",
        "    # Calculate cosine similarity matrix\n",
        "    similarity_matrix = cosine_similarity(embeddings_array)\n",
        "\n",
        "    # Perform hierarchical clustering using cosine similarity\n",
        "    distance_matrix = 1 - similarity_matrix  # Convert similarity to distance\n",
        "    linkage_matrix = linkage(distance_matrix, method='ward') # Use ward method for better results\n",
        "\n",
        "    # Plot the dendrogram\n",
        "    plt.figure(figsize=(10, 7))\n",
        "    dendrogram(linkage_matrix, labels=df.index.tolist(), orientation='top', leaf_font_size=8)  # Use df.index as labels\n",
        "    plt.title('Hierarchical Clustering Dendrogram')\n",
        "    plt.xlabel('Sample Index')\n",
        "    plt.ylabel('Distance')\n",
        "    plt.show()\n",
        "else:\n",
        "    print(\"Error: 'embeddings' column not found in the DataFrame.\")\n"
      ],
      "metadata": {
        "colab": {
          "base_uri": "https://localhost:8080/",
          "height": 637
        },
        "id": "DnT0gWwtz7Ac",
        "outputId": "1732d532-e243-4534-89bc-c354a0b2a951"
      },
      "execution_count": 5,
      "outputs": [
        {
          "output_type": "display_data",
          "data": {
            "text/plain": [
              "<Figure size 1000x700 with 1 Axes>"
            ],
            "image/png": "[encoded data removed]"
          },
          "metadata": {}
        }
      ]
    },
    {
      "cell_type": "code",
      "source": [
        "# prompt: クラスタ数を指定すると、各クラスタに属するサンプルのサンプルインデクスとtext_culumnの内容を表示する\n",
        "\n",
        "import matplotlib.pyplot as plt\n",
        "from scipy.cluster.hierarchy import fcluster\n",
        "\n",
        "def show_cluster_members(linkage_matrix, df, n_clusters):\n",
        "    # Perform clustering based on the specified number of clusters\n",
        "    cluster_labels = fcluster(linkage_matrix, n_clusters, criterion='maxclust')\n",
        "\n",
        "    # Print the sample indices and text_column content for each cluster\n",
        "    for i in range(1, n_clusters + 1):\n",
        "        cluster_members = df[cluster_labels == i]\n",
        "        print(f\"Cluster {i}:\")\n",
        "        for index, row in cluster_members.iterrows():\n",
        "          print(f\"  Index: {index}, Text: {row[text_column]}\")\n",
        "\n",
        "# Example usage (assuming linkage_matrix and df are already defined)\n",
        "# Replace 'n_clusters' with your desired number of clusters\n",
        "n_clusters = 6  # Example: 3 clusters\n",
        "show_cluster_members(linkage_matrix, df, n_clusters)\n"
      ],
      "metadata": {
        "colab": {
          "base_uri": "https://localhost:8080/"
        },
        "id": "paWWz5aj03u7",
        "outputId": "037e55c6-cd50-412e-e69a-41fed9935863"
      },
      "execution_count": 6,
      "outputs": [
        {
          "output_type": "stream",
          "name": "stdout",
          "text": [
            "Cluster 1:\n",
            "  Index: 1, Text: 食堂・売店のメニューを増やして欲しい→メニューが少ない理由の調査し、食堂・売店の売り上げ予測や店舗レイアウトの最適化を生成AI支援でおこない、メニュー増加によるコスト増、売り上げ増、利益の変化のシミュレーションをし、増加と利益につなげるものをプレゼンする。\n",
            "  Index: 2, Text: ワークショップの内容をみて，論文執筆や授業作成に活かせるのAI活用方法について知見を広げたい．\n",
            "  Index: 6, Text: 生成AIの活用を経験しておきたい\n",
            "  Index: 8, Text: AIを使って何か作品を作りたい\n",
            "  Index: 9, Text: 就活の補助（自己分析を従来よりも正確にするものなど）\n",
            "  Index: 15, Text: 就活／会議内容／大学の講義・課題などの様々な場面に関わらず、ユーザーの入れた情報（フォーマット形式）からカレンダー・メモ帳・画像（図）形式で重要順に表示する生成AIを作りたい。\n",
            "  Index: 17, Text: 個人に寄り添い、おすすめの本や商品などを勧めるAIレコメンドに興味がある。文章を書くのにつまずいたときに好きそうな言葉や文章をおすすめしてくれるAIもあったらいいなと思う。\n",
            "Cluster 2:\n",
            "  Index: 3, Text: 小学校低学年向けの勉強学習アプリを作ってみたい\n",
            "  Index: 5, Text: カラオケが好きで、歌が上手くなりたいので、自分の歌の録音や、カラオケの点数の写真を読みとって、アドバイスをしてくれるようなソフトやアプリを作りたい\n",
            "  Index: 16, Text: 豚の画像認識による病気の早期発見や、豚の体調の変化発見などのAIを作る\n",
            "Cluster 3:\n",
            "  Index: 7, Text: 軽音サークルの新入生が例年より多くなる予定なので、バンドを積極的に組めるようなサイトを作成したい。\n",
            "  Index: 19, Text: スポーツに関わること\n",
            "Cluster 4:\n",
            "  Index: 11, Text: 宮崎市内で勉強ができる場所や利用状況を知れるアプリ（地図とつなげたい）\n",
            "  Index: 12, Text: 宮崎の交通を改善できるもの（特にバス電車等）\n",
            "  Index: 14, Text: 自然に関するテーマ（その日の天気や気温、気を付けた方がいいことを知らせてくれるアプリ、警報が出たら知らせてくれるツールなど）\n",
            "Cluster 5:\n",
            "  Index: 4, Text: イベントを作る時に赤字にならないチケット代や箱を、イベント出演者や他のイベントの有無によって提案してほしい。\n",
            "  Index: 10, Text: へべす収穫祭を盛り上げてくれるようなイベントを企画したい\n",
            "Cluster 6:\n",
            "  Index: 0, Text: 財務諸表から企業の業績を予測し投資の意思決定をしてみたいです。\n",
            "  Index: 13, Text: 日向市特産品「へべす」に関するSNS上の情報を集めて、売れる新商品を開発したい\n",
            "  Index: 18, Text: マーケティングに関わること\n"
          ]
        }
      ]
    }
  ]
}