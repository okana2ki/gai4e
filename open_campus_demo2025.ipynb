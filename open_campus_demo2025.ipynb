{
  "nbformat": 4,
  "nbformat_minor": 0,
  "metadata": {
    "colab": {
      "provenance": [],
      "authorship_tag": "ABX9TyO36CW24xGmj6kqlij6Twj9",
      "include_colab_link": true
    },
    "kernelspec": {
      "name": "python3",
      "display_name": "Python 3"
    },
    "language_info": {
      "name": "python"
    }
  },
  "cells": [
    {
      "cell_type": "markdown",
      "metadata": {
        "id": "view-in-github",
        "colab_type": "text"
      },
      "source": [
        "<a href=\"https://colab.research.google.com/github/okana2ki/gai4e/blob/main/open_campus_demo2025.ipynb\" target=\"_parent\"><img src=\"https://colab.research.google.com/assets/colab-badge.svg\" alt=\"Open In Colab\"/></a>"
      ]
    },
    {
      "cell_type": "code",
      "execution_count": null,
      "metadata": {
        "id": "PwQX3GFoonNm"
      },
      "outputs": [],
      "source": []
    },
    {
      "cell_type": "markdown",
      "metadata": {
        "id": "c727b3ff"
      },
      "source": [
        "# Task\n",
        "Develop a real-time sentiment analysis SNS web application using free tools and libraries (like Streamlit and a suitable Japanese sentiment analysis method) in a Colab environment for a university open campus demo, allowing high school students to post comments and see real-time sentiment analysis and visualization of the results."
      ]
    },
    {
      "cell_type": "markdown",
      "metadata": {
        "id": "188e1f14"
      },
      "source": [
        "## Set up the environment\n",
        "\n",
        "### Subtask:\n",
        "Install necessary libraries such as `streamlit` and a suitable library for Japanese sentiment analysis. Since TextBlob might not be accurate for Japanese, research and select an alternative or plan to use an LLM for sentiment analysis.\n"
      ]
    },
    {
      "cell_type": "markdown",
      "metadata": {
        "id": "e5a54985"
      },
      "source": [
        "**Reasoning**:\n",
        "Install streamlit and research suitable Japanese sentiment analysis libraries. Based on the research, `janome` is a lightweight option for Japanese tokenization which can be a first step towards sentiment analysis by identifying keywords. Also, explore `ginza` which provides more comprehensive NLP capabilities for Japanese. I will install `streamlit` and `janome`.\n",
        "\n"
      ]
    },
    {
      "cell_type": "code",
      "metadata": {
        "colab": {
          "base_uri": "https://localhost:8080/"
        },
        "id": "27f98090",
        "outputId": "00163454-d8f0-49ef-b9b9-184f01580d1b"
      },
      "source": [
        "!pip install streamlit janome\n",
        "# Further research on Ginza and LLM options will be done manually based on the installation and initial exploration."
      ],
      "execution_count": 2,
      "outputs": [
        {
          "output_type": "stream",
          "name": "stdout",
          "text": [
            "Requirement already satisfied: streamlit in /usr/local/lib/python3.11/dist-packages (1.48.0)\n",
            "Requirement already satisfied: janome in /usr/local/lib/python3.11/dist-packages (0.5.0)\n",
            "Requirement already satisfied: altair!=5.4.0,!=5.4.1,<6,>=4.0 in /usr/local/lib/python3.11/dist-packages (from streamlit) (5.5.0)\n",
            "Requirement already satisfied: blinker<2,>=1.5.0 in /usr/local/lib/python3.11/dist-packages (from streamlit) (1.9.0)\n",
            "Requirement already satisfied: cachetools<7,>=4.0 in /usr/local/lib/python3.11/dist-packages (from streamlit) (5.5.2)\n",
            "Requirement already satisfied: click<9,>=7.0 in /usr/local/lib/python3.11/dist-packages (from streamlit) (8.2.1)\n",
            "Requirement already satisfied: numpy<3,>=1.23 in /usr/local/lib/python3.11/dist-packages (from streamlit) (2.0.2)\n",
            "Requirement already satisfied: packaging<26,>=20 in /usr/local/lib/python3.11/dist-packages (from streamlit) (25.0)\n",
            "Requirement already satisfied: pandas<3,>=1.4.0 in /usr/local/lib/python3.11/dist-packages (from streamlit) (2.2.2)\n",
            "Requirement already satisfied: pillow<12,>=7.1.0 in /usr/local/lib/python3.11/dist-packages (from streamlit) (11.3.0)\n",
            "Requirement already satisfied: protobuf<7,>=3.20 in /usr/local/lib/python3.11/dist-packages (from streamlit) (5.29.5)\n",
            "Requirement already satisfied: pyarrow>=7.0 in /usr/local/lib/python3.11/dist-packages (from streamlit) (18.1.0)\n",
            "Requirement already satisfied: requests<3,>=2.27 in /usr/local/lib/python3.11/dist-packages (from streamlit) (2.32.3)\n",
            "Requirement already satisfied: tenacity<10,>=8.1.0 in /usr/local/lib/python3.11/dist-packages (from streamlit) (8.5.0)\n",
            "Requirement already satisfied: toml<2,>=0.10.1 in /usr/local/lib/python3.11/dist-packages (from streamlit) (0.10.2)\n",
            "Requirement already satisfied: typing-extensions<5,>=4.4.0 in /usr/local/lib/python3.11/dist-packages (from streamlit) (4.14.1)\n",
            "Requirement already satisfied: watchdog<7,>=2.1.5 in /usr/local/lib/python3.11/dist-packages (from streamlit) (6.0.0)\n",
            "Requirement already satisfied: gitpython!=3.1.19,<4,>=3.0.7 in /usr/local/lib/python3.11/dist-packages (from streamlit) (3.1.45)\n",
            "Requirement already satisfied: pydeck<1,>=0.8.0b4 in /usr/local/lib/python3.11/dist-packages (from streamlit) (0.9.1)\n",
            "Requirement already satisfied: tornado!=6.5.0,<7,>=6.0.3 in /usr/local/lib/python3.11/dist-packages (from streamlit) (6.4.2)\n",
            "Requirement already satisfied: jinja2 in /usr/local/lib/python3.11/dist-packages (from altair!=5.4.0,!=5.4.1,<6,>=4.0->streamlit) (3.1.6)\n",
            "Requirement already satisfied: jsonschema>=3.0 in /usr/local/lib/python3.11/dist-packages (from altair!=5.4.0,!=5.4.1,<6,>=4.0->streamlit) (4.25.0)\n",
            "Requirement already satisfied: narwhals>=1.14.2 in /usr/local/lib/python3.11/dist-packages (from altair!=5.4.0,!=5.4.1,<6,>=4.0->streamlit) (2.0.1)\n",
            "Requirement already satisfied: gitdb<5,>=4.0.1 in /usr/local/lib/python3.11/dist-packages (from gitpython!=3.1.19,<4,>=3.0.7->streamlit) (4.0.12)\n",
            "Requirement already satisfied: python-dateutil>=2.8.2 in /usr/local/lib/python3.11/dist-packages (from pandas<3,>=1.4.0->streamlit) (2.9.0.post0)\n",
            "Requirement already satisfied: pytz>=2020.1 in /usr/local/lib/python3.11/dist-packages (from pandas<3,>=1.4.0->streamlit) (2025.2)\n",
            "Requirement already satisfied: tzdata>=2022.7 in /usr/local/lib/python3.11/dist-packages (from pandas<3,>=1.4.0->streamlit) (2025.2)\n",
            "Requirement already satisfied: charset-normalizer<4,>=2 in /usr/local/lib/python3.11/dist-packages (from requests<3,>=2.27->streamlit) (3.4.2)\n",
            "Requirement already satisfied: idna<4,>=2.5 in /usr/local/lib/python3.11/dist-packages (from requests<3,>=2.27->streamlit) (3.10)\n",
            "Requirement already satisfied: urllib3<3,>=1.21.1 in /usr/local/lib/python3.11/dist-packages (from requests<3,>=2.27->streamlit) (2.5.0)\n",
            "Requirement already satisfied: certifi>=2017.4.17 in /usr/local/lib/python3.11/dist-packages (from requests<3,>=2.27->streamlit) (2025.8.3)\n",
            "Requirement already satisfied: smmap<6,>=3.0.1 in /usr/local/lib/python3.11/dist-packages (from gitdb<5,>=4.0.1->gitpython!=3.1.19,<4,>=3.0.7->streamlit) (5.0.2)\n",
            "Requirement already satisfied: MarkupSafe>=2.0 in /usr/local/lib/python3.11/dist-packages (from jinja2->altair!=5.4.0,!=5.4.1,<6,>=4.0->streamlit) (3.0.2)\n",
            "Requirement already satisfied: attrs>=22.2.0 in /usr/local/lib/python3.11/dist-packages (from jsonschema>=3.0->altair!=5.4.0,!=5.4.1,<6,>=4.0->streamlit) (25.3.0)\n",
            "Requirement already satisfied: jsonschema-specifications>=2023.03.6 in /usr/local/lib/python3.11/dist-packages (from jsonschema>=3.0->altair!=5.4.0,!=5.4.1,<6,>=4.0->streamlit) (2025.4.1)\n",
            "Requirement already satisfied: referencing>=0.28.4 in /usr/local/lib/python3.11/dist-packages (from jsonschema>=3.0->altair!=5.4.0,!=5.4.1,<6,>=4.0->streamlit) (0.36.2)\n",
            "Requirement already satisfied: rpds-py>=0.7.1 in /usr/local/lib/python3.11/dist-packages (from jsonschema>=3.0->altair!=5.4.0,!=5.4.1,<6,>=4.0->streamlit) (0.26.0)\n",
            "Requirement already satisfied: six>=1.5 in /usr/local/lib/python3.11/dist-packages (from python-dateutil>=2.8.2->pandas<3,>=1.4.0->streamlit) (1.17.0)\n"
          ]
        }
      ]
    },
    {
      "cell_type": "markdown",
      "metadata": {
        "id": "d56c633c"
      },
      "source": [
        "## Develop the web application with streamlit\n",
        "\n",
        "### Subtask:\n",
        "Create a basic Streamlit application that can display text input from users and some initial output area.\n"
      ]
    },
    {
      "cell_type": "markdown",
      "metadata": {
        "id": "09867762"
      },
      "source": [
        "**Reasoning**:\n",
        "Create a basic Streamlit application with a title, a text input area, and a placeholder for output as requested in the instructions.\n",
        "\n"
      ]
    },
    {
      "cell_type": "code",
      "metadata": {
        "colab": {
          "base_uri": "https://localhost:8080/"
        },
        "id": "ae27e1de",
        "outputId": "cdac567f-04b4-418f-87d2-96f09b28ef36"
      },
      "source": [
        "import streamlit as st\n",
        "\n",
        "st.title(\"Real-time Sentiment Analysis Demo\")\n",
        "user_comment = st.text_area(\"Enter your comment here:\")\n",
        "st.write(\"Sentiment analysis results will appear here.\")"
      ],
      "execution_count": 3,
      "outputs": [
        {
          "output_type": "stream",
          "name": "stderr",
          "text": [
            "2025-08-11 07:02:51.868 WARNING streamlit.runtime.scriptrunner_utils.script_run_context: Thread 'MainThread': missing ScriptRunContext! This warning can be ignored when running in bare mode.\n",
            "2025-08-11 07:02:51.994 \n",
            "  \u001b[33m\u001b[1mWarning:\u001b[0m to view this Streamlit app on a browser, run it with the following\n",
            "  command:\n",
            "\n",
            "    streamlit run /usr/local/lib/python3.11/dist-packages/colab_kernel_launcher.py [ARGUMENTS]\n",
            "2025-08-11 07:02:51.995 Thread 'MainThread': missing ScriptRunContext! This warning can be ignored when running in bare mode.\n",
            "2025-08-11 07:02:51.998 Thread 'MainThread': missing ScriptRunContext! This warning can be ignored when running in bare mode.\n",
            "2025-08-11 07:02:51.999 Thread 'MainThread': missing ScriptRunContext! This warning can be ignored when running in bare mode.\n",
            "2025-08-11 07:02:52.001 Thread 'MainThread': missing ScriptRunContext! This warning can be ignored when running in bare mode.\n",
            "2025-08-11 07:02:52.002 Thread 'MainThread': missing ScriptRunContext! This warning can be ignored when running in bare mode.\n",
            "2025-08-11 07:02:52.004 Thread 'MainThread': missing ScriptRunContext! This warning can be ignored when running in bare mode.\n",
            "2025-08-11 07:02:52.005 Session state does not function when running a script without `streamlit run`\n",
            "2025-08-11 07:02:52.006 Thread 'MainThread': missing ScriptRunContext! This warning can be ignored when running in bare mode.\n",
            "2025-08-11 07:02:52.007 Thread 'MainThread': missing ScriptRunContext! This warning can be ignored when running in bare mode.\n",
            "2025-08-11 07:02:52.008 Thread 'MainThread': missing ScriptRunContext! This warning can be ignored when running in bare mode.\n",
            "2025-08-11 07:02:52.009 Thread 'MainThread': missing ScriptRunContext! This warning can be ignored when running in bare mode.\n",
            "2025-08-11 07:02:52.010 Thread 'MainThread': missing ScriptRunContext! This warning can be ignored when running in bare mode.\n",
            "2025-08-11 07:02:52.011 Thread 'MainThread': missing ScriptRunContext! This warning can be ignored when running in bare mode.\n"
          ]
        }
      ]
    },
    {
      "cell_type": "markdown",
      "metadata": {
        "id": "022f11eb"
      },
      "source": [
        "## Implement sentiment analysis\n",
        "\n",
        "### Subtask:\n",
        "Integrate the chosen sentiment analysis library or develop a method using a free LLM (like Gemini) to analyze the sentiment of the user's input.\n"
      ]
    },
    {
      "cell_type": "markdown",
      "metadata": {
        "id": "5186d7ea"
      },
      "source": [
        "**Reasoning**:\n",
        "Explore using Janome for sentiment analysis by tokenizing the user comment and attempting a simple dictionary-based sentiment analysis approach using a hypothetical dictionary since a standard sentiment analysis dictionary isn't built into Janome.\n",
        "\n"
      ]
    },
    {
      "cell_type": "code",
      "metadata": {
        "colab": {
          "base_uri": "https://localhost:8080/"
        },
        "id": "b5053154",
        "outputId": "bdc84578-53c7-49d4-e8a7-b0a2305a62f8"
      },
      "source": [
        "from janome.tokenizer import Tokenizer\n",
        "\n",
        "# Hypothetical simple sentiment dictionary (for demonstration)\n",
        "# In a real application, this would be a more comprehensive dictionary\n",
        "sentiment_dict = {\n",
        "    '良い': 'positive',\n",
        "    '楽しい': 'positive',\n",
        "    '嬉しい': 'positive',\n",
        "    '悲しい': 'negative',\n",
        "    '辛い': 'negative',\n",
        "    '悪い': 'negative',\n",
        "    '普通': 'neutral',\n",
        "    'まあまあ': 'neutral',\n",
        "}\n",
        "\n",
        "def analyze_sentiment_janome(text):\n",
        "    t = Tokenizer()\n",
        "    tokens = t.tokenize(text)\n",
        "    sentiment_scores = []\n",
        "    for token in tokens:\n",
        "        # Simple check if the base form of the token is in our dictionary\n",
        "        base_form = token.base_form if token.base_form else token.surface\n",
        "        if base_form in sentiment_dict:\n",
        "            sentiment_scores.append(sentiment_dict[base_form])\n",
        "\n",
        "    # Determine overall sentiment based on collected scores\n",
        "    if not sentiment_scores:\n",
        "        return 'neutral'\n",
        "    elif 'positive' in sentiment_scores and 'negative' not in sentiment_scores:\n",
        "        return 'positive'\n",
        "    elif 'negative' in sentiment_scores and 'positive' not in sentiment_scores:\n",
        "        return 'negative'\n",
        "    elif 'positive' in sentiment_scores and 'negative' in sentiment_scores:\n",
        "        # Handle mixed sentiment - could be more sophisticated\n",
        "        return 'neutral' # Or 'mixed'\n",
        "    else:\n",
        "        return 'neutral' # Default if only neutral terms are found\n",
        "\n",
        "# Assume user_comment is available from the previous Streamlit code\n",
        "# For demonstration, let's use a sample comment\n",
        "# user_comment = \"これは良いコメントです。\" # Example positive comment\n",
        "# user_comment = \"これは悲しいニュースです。\" # Example negative comment\n",
        "# user_comment = \"これは普通のコメントです。\" # Example neutral comment\n",
        "# user_comment = \"良いニュースと悲しいニュースがあります。\" # Example mixed comment\n",
        "\n",
        "# Use the user_comment variable from the previous step if it exists, otherwise use a default\n",
        "if 'user_comment' not in locals() or user_comment is None or user_comment == \"\":\n",
        "    user_comment = \"テストコメントです。\" # Default comment for testing\n",
        "\n",
        "sentiment_result = analyze_sentiment_janome(user_comment)\n",
        "\n",
        "print(f\"User Comment: {user_comment}\")\n",
        "print(f\"Sentiment Result: {sentiment_result}\")\n"
      ],
      "execution_count": 4,
      "outputs": [
        {
          "output_type": "stream",
          "name": "stdout",
          "text": [
            "User Comment: テストコメントです。\n",
            "Sentiment Result: neutral\n"
          ]
        }
      ]
    },
    {
      "cell_type": "markdown",
      "metadata": {
        "id": "49cda19e"
      },
      "source": [
        "## Store and process data\n",
        "\n",
        "### Subtask:\n",
        "Set up a way to store the incoming user posts and their sentiment analysis results. Consider using a simple method suitable for a live demo, like an in-memory list or a lightweight database if necessary.\n"
      ]
    },
    {
      "cell_type": "markdown",
      "metadata": {
        "id": "62383c2a"
      },
      "source": [
        "**Reasoning**:\n",
        "Initialize an empty list to store the user comments and their sentiment analysis results.\n",
        "\n"
      ]
    },
    {
      "cell_type": "code",
      "metadata": {
        "colab": {
          "base_uri": "https://localhost:8080/"
        },
        "id": "b8f1ffda",
        "outputId": "95c807e3-15a2-48ee-e50c-4527c9a87b2b"
      },
      "source": [
        "import streamlit as st\n",
        "\n",
        "# Initialize the storage for comments and sentiments if not already present in session state\n",
        "if 'comments_data' not in st.session_state:\n",
        "    st.session_state['comments_data'] = []\n",
        "\n",
        "# Assume user_comment and sentiment_result are available from previous steps/will be generated later\n",
        "# For this setup step, we just need to initialize the storage."
      ],
      "execution_count": 5,
      "outputs": [
        {
          "output_type": "stream",
          "name": "stderr",
          "text": [
            "2025-08-11 07:06:55.359 Thread 'MainThread': missing ScriptRunContext! This warning can be ignored when running in bare mode.\n",
            "2025-08-11 07:06:55.361 Thread 'MainThread': missing ScriptRunContext! This warning can be ignored when running in bare mode.\n",
            "2025-08-11 07:06:55.363 Thread 'MainThread': missing ScriptRunContext! This warning can be ignored when running in bare mode.\n"
          ]
        }
      ]
    },
    {
      "cell_type": "markdown",
      "metadata": {
        "id": "dbb36ce7"
      },
      "source": [
        "## Visualize results\n",
        "\n",
        "### Subtask:\n",
        "Implement real-time visualization of the sentiment analysis results, showing individual posts and aggregated sentiment data (e.g., counts of positive, negative, neutral sentiments).\n"
      ]
    },
    {
      "cell_type": "markdown",
      "metadata": {
        "id": "f0779327"
      },
      "source": [
        "**Reasoning**:\n",
        "Import necessary libraries for visualization and update the Streamlit application code to display comments and sentiments, calculate sentiment counts, and prepare for visualization.\n",
        "\n"
      ]
    },
    {
      "cell_type": "code",
      "metadata": {
        "colab": {
          "base_uri": "https://localhost:8080/"
        },
        "id": "effdc894",
        "outputId": "b76988aa-d84f-4ae9-8f58-fa3a360175ac"
      },
      "source": [
        "import streamlit as st\n",
        "import matplotlib.pyplot as plt\n",
        "import pandas as pd\n",
        "\n",
        "# Assume user_comment and sentiment_result are available from previous steps/will be generated later\n",
        "# Add a button to simulate adding a comment and its analysis result\n",
        "if st.button(\"Add Comment (Simulated)\"):\n",
        "    # In a real app, user_comment would come from st.text_area and sentiment_result from analysis\n",
        "    # For demonstration, let's add a few sample comments and sentiments\n",
        "    sample_comments = [\n",
        "        (\"これは良いコメントです。\", \"positive\"),\n",
        "        (\"これは悲しいニュースです。\", \"negative\"),\n",
        "        (\"これは普通のコメントです。\", \"neutral\"),\n",
        "        (\"良いニュースと悲しいニュースがあります。\", \"neutral\"), # Mixed sentiment handled as neutral\n",
        "        (\"楽しい一日でした！\", \"positive\"),\n",
        "        (\"最悪です。\", \"negative\"),\n",
        "        (\"まあまあですね。\", \"neutral\")\n",
        "    ]\n",
        "    import random\n",
        "    comment_to_add, sentiment_to_add = random.choice(sample_comments)\n",
        "\n",
        "    st.session_state['comments_data'].append({\n",
        "        'comment': comment_to_add,\n",
        "        'sentiment': sentiment_to_add\n",
        "    })\n",
        "\n",
        "# Display individual comments and sentiments\n",
        "st.subheader(\"Individual Comments and Sentiments\")\n",
        "if st.session_state['comments_data']:\n",
        "    for item in st.session_state['comments_data']:\n",
        "        st.write(f\"Comment: {item['comment']} - Sentiment: {item['sentiment']}\")\n",
        "else:\n",
        "    st.write(\"No comments yet.\")\n",
        "\n",
        "# Calculate sentiment counts\n",
        "sentiment_counts = pd.Series([item['sentiment'] for item in st.session_state['comments_data']]).value_counts()\n",
        "\n",
        "# Display sentiment counts (optional, can be part of visualization)\n",
        "st.subheader(\"Sentiment Counts\")\n",
        "st.write(sentiment_counts)\n",
        "\n",
        "# Create and display visualization (Placeholder for now, will be completed in the next step)\n",
        "st.subheader(\"Sentiment Distribution\")\n",
        "if not sentiment_counts.empty:\n",
        "    fig, ax = plt.subplots()\n",
        "    sentiment_counts.plot(kind='bar', ax=ax, color=['green', 'red', 'gray'])\n",
        "    ax.set_title(\"Sentiment Distribution\")\n",
        "    ax.set_xlabel(\"Sentiment\")\n",
        "    ax.set_ylabel(\"Count\")\n",
        "    st.pyplot(fig)\n",
        "else:\n",
        "    st.write(\"No data to visualize yet.\")\n"
      ],
      "execution_count": 6,
      "outputs": [
        {
          "output_type": "stream",
          "name": "stderr",
          "text": [
            "2025-08-11 07:08:02.939 Thread 'MainThread': missing ScriptRunContext! This warning can be ignored when running in bare mode.\n",
            "2025-08-11 07:08:02.940 Thread 'MainThread': missing ScriptRunContext! This warning can be ignored when running in bare mode.\n",
            "2025-08-11 07:08:02.941 Thread 'MainThread': missing ScriptRunContext! This warning can be ignored when running in bare mode.\n",
            "2025-08-11 07:08:02.942 Thread 'MainThread': missing ScriptRunContext! This warning can be ignored when running in bare mode.\n",
            "2025-08-11 07:08:02.943 Thread 'MainThread': missing ScriptRunContext! This warning can be ignored when running in bare mode.\n",
            "2025-08-11 07:08:02.944 Thread 'MainThread': missing ScriptRunContext! This warning can be ignored when running in bare mode.\n",
            "2025-08-11 07:08:02.945 Thread 'MainThread': missing ScriptRunContext! This warning can be ignored when running in bare mode.\n",
            "2025-08-11 07:08:02.946 Thread 'MainThread': missing ScriptRunContext! This warning can be ignored when running in bare mode.\n",
            "2025-08-11 07:08:02.947 Thread 'MainThread': missing ScriptRunContext! This warning can be ignored when running in bare mode.\n",
            "2025-08-11 07:08:02.948 Thread 'MainThread': missing ScriptRunContext! This warning can be ignored when running in bare mode.\n",
            "2025-08-11 07:08:02.949 Thread 'MainThread': missing ScriptRunContext! This warning can be ignored when running in bare mode.\n",
            "2025-08-11 07:08:02.950 Thread 'MainThread': missing ScriptRunContext! This warning can be ignored when running in bare mode.\n",
            "2025-08-11 07:08:02.951 Thread 'MainThread': missing ScriptRunContext! This warning can be ignored when running in bare mode.\n",
            "2025-08-11 07:08:02.952 Thread 'MainThread': missing ScriptRunContext! This warning can be ignored when running in bare mode.\n",
            "2025-08-11 07:08:02.961 Thread 'MainThread': missing ScriptRunContext! This warning can be ignored when running in bare mode.\n",
            "2025-08-11 07:08:02.963 Thread 'MainThread': missing ScriptRunContext! This warning can be ignored when running in bare mode.\n",
            "2025-08-11 07:08:02.964 Thread 'MainThread': missing ScriptRunContext! This warning can be ignored when running in bare mode.\n",
            "2025-08-11 07:08:03.007 Thread 'MainThread': missing ScriptRunContext! This warning can be ignored when running in bare mode.\n",
            "2025-08-11 07:08:03.008 Thread 'MainThread': missing ScriptRunContext! This warning can be ignored when running in bare mode.\n",
            "2025-08-11 07:08:03.009 Thread 'MainThread': missing ScriptRunContext! This warning can be ignored when running in bare mode.\n",
            "2025-08-11 07:08:03.010 Thread 'MainThread': missing ScriptRunContext! This warning can be ignored when running in bare mode.\n",
            "2025-08-11 07:08:03.011 Thread 'MainThread': missing ScriptRunContext! This warning can be ignored when running in bare mode.\n",
            "2025-08-11 07:08:03.012 Thread 'MainThread': missing ScriptRunContext! This warning can be ignored when running in bare mode.\n",
            "2025-08-11 07:08:03.014 Thread 'MainThread': missing ScriptRunContext! This warning can be ignored when running in bare mode.\n",
            "2025-08-11 07:08:03.014 Thread 'MainThread': missing ScriptRunContext! This warning can be ignored when running in bare mode.\n",
            "2025-08-11 07:08:03.015 Thread 'MainThread': missing ScriptRunContext! This warning can be ignored when running in bare mode.\n"
          ]
        }
      ]
    },
    {
      "cell_type": "markdown",
      "metadata": {
        "id": "f5883f64"
      },
      "source": [
        "## Deploy the application\n",
        "\n",
        "### Subtask:\n",
        "Make the Streamlit application accessible via a public URL so that users can access it from their phones using a QR code. Consider using services like `ngrok` or Streamlit's sharing feature if applicable and free.\n"
      ]
    },
    {
      "cell_type": "markdown",
      "metadata": {
        "id": "2c3e7545"
      },
      "source": [
        "**Reasoning**:\n",
        "Save the complete Streamlit application code, including setup, sentiment analysis, data storage, and visualization, into a Python file named `app.py`.\n",
        "\n"
      ]
    },
    {
      "cell_type": "code",
      "metadata": {
        "colab": {
          "base_uri": "https://localhost:8080/"
        },
        "id": "4c7ff436",
        "outputId": "eaf43838-5b05-444e-e4b8-335926bb3790"
      },
      "source": [
        "# app.py\n",
        "import streamlit as st\n",
        "import matplotlib.pyplot as plt\n",
        "import pandas as pd\n",
        "from janome.tokenizer import Tokenizer\n",
        "\n",
        "# Hypothetical simple sentiment dictionary (for demonstration)\n",
        "sentiment_dict = {\n",
        "    '良い': 'positive',\n",
        "    '楽しい': 'positive',\n",
        "    '嬉しい': 'positive',\n",
        "    '悲しい': 'negative',\n",
        "    '辛い': 'negative',\n",
        "    '悪い': 'negative',\n",
        "    '普通': 'neutral',\n",
        "    'まあまあ': 'neutral',\n",
        "}\n",
        "\n",
        "def analyze_sentiment_janome(text):\n",
        "    if not text: # Handle empty input\n",
        "        return 'neutral'\n",
        "    t = Tokenizer()\n",
        "    tokens = t.tokenize(text)\n",
        "    sentiment_scores = []\n",
        "    for token in tokens:\n",
        "        base_form = token.base_form if token.base_form else token.surface\n",
        "        if base_form in sentiment_dict:\n",
        "            sentiment_scores.append(sentiment_dict[base_form])\n",
        "\n",
        "    if not sentiment_scores:\n",
        "        return 'neutral'\n",
        "    elif 'positive' in sentiment_scores and 'negative' not in sentiment_scores:\n",
        "        return 'positive'\n",
        "    elif 'negative' in sentiment_scores and 'positive' not in sentiment_scores:\n",
        "        return 'negative'\n",
        "    elif 'positive' in sentiment_scores and 'negative' in sentiment_scores:\n",
        "        return 'neutral' # Or 'mixed'\n",
        "    else:\n",
        "        return 'neutral'\n",
        "\n",
        "# Initialize the storage for comments and sentiments if not already present in session state\n",
        "if 'comments_data' not in st.session_state:\n",
        "    st.session_state['comments_data'] = []\n",
        "\n",
        "st.title(\"Real-time Sentiment Analysis Demo\")\n",
        "user_comment = st.text_area(\"Enter your comment here:\", key=\"comment_input\")\n",
        "\n",
        "if st.button(\"Submit Comment\"):\n",
        "    sentiment_result = analyze_sentiment_janome(user_comment)\n",
        "    st.session_state['comments_data'].append({\n",
        "        'comment': user_comment,\n",
        "        'sentiment': sentiment_result\n",
        "    })\n",
        "    # Clear the text area after submission\n",
        "    st.session_state['comment_input'] = \"\"\n",
        "\n",
        "\n",
        "# Display individual comments and sentiments\n",
        "st.subheader(\"Individual Comments and Sentiments\")\n",
        "if st.session_state['comments_data']:\n",
        "    # Display in reverse order to show latest comments first\n",
        "    for item in reversed(st.session_state['comments_data']):\n",
        "        st.write(f\"Comment: {item['comment']} - Sentiment: {item['sentiment']}\")\n",
        "else:\n",
        "    st.write(\"No comments yet.\")\n",
        "\n",
        "# Calculate sentiment counts\n",
        "sentiment_counts = pd.Series([item['sentiment'] for item in st.session_state['comments_data']]).value_counts()\n",
        "\n",
        "# Create and display visualization\n",
        "st.subheader(\"Sentiment Distribution\")\n",
        "if not sentiment_counts.empty:\n",
        "    fig, ax = plt.subplots()\n",
        "    # Define colors for sentiments\n",
        "    colors = {'positive': 'green', 'negative': 'red', 'neutral': 'gray'}\n",
        "    # Map sentiment labels to colors for plotting\n",
        "    plot_colors = [colors.get(x, 'gray') for x in sentiment_counts.index]\n",
        "\n",
        "    sentiment_counts.plot(kind='bar', ax=ax, color=plot_colors)\n",
        "    ax.set_title(\"Sentiment Distribution\")\n",
        "    ax.set_xlabel(\"Sentiment\")\n",
        "    ax.set_ylabel(\"Count\")\n",
        "    plt.xticks(rotation=0) # Keep labels horizontal\n",
        "    st.pyplot(fig)\n",
        "else:\n",
        "    st.write(\"No data to visualize yet.\")\n"
      ],
      "execution_count": 7,
      "outputs": [
        {
          "output_type": "stream",
          "name": "stderr",
          "text": [
            "2025-08-11 07:09:12.694 Thread 'MainThread': missing ScriptRunContext! This warning can be ignored when running in bare mode.\n",
            "2025-08-11 07:09:12.696 Thread 'MainThread': missing ScriptRunContext! This warning can be ignored when running in bare mode.\n",
            "2025-08-11 07:09:12.697 Thread 'MainThread': missing ScriptRunContext! This warning can be ignored when running in bare mode.\n",
            "2025-08-11 07:09:12.698 Thread 'MainThread': missing ScriptRunContext! This warning can be ignored when running in bare mode.\n",
            "2025-08-11 07:09:12.699 Thread 'MainThread': missing ScriptRunContext! This warning can be ignored when running in bare mode.\n",
            "2025-08-11 07:09:12.700 Thread 'MainThread': missing ScriptRunContext! This warning can be ignored when running in bare mode.\n",
            "2025-08-11 07:09:12.701 Thread 'MainThread': missing ScriptRunContext! This warning can be ignored when running in bare mode.\n",
            "2025-08-11 07:09:12.702 Thread 'MainThread': missing ScriptRunContext! This warning can be ignored when running in bare mode.\n",
            "2025-08-11 07:09:12.702 Thread 'MainThread': missing ScriptRunContext! This warning can be ignored when running in bare mode.\n",
            "2025-08-11 07:09:12.703 Thread 'MainThread': missing ScriptRunContext! This warning can be ignored when running in bare mode.\n",
            "2025-08-11 07:09:12.704 Thread 'MainThread': missing ScriptRunContext! This warning can be ignored when running in bare mode.\n",
            "2025-08-11 07:09:12.705 Thread 'MainThread': missing ScriptRunContext! This warning can be ignored when running in bare mode.\n",
            "2025-08-11 07:09:12.706 Thread 'MainThread': missing ScriptRunContext! This warning can be ignored when running in bare mode.\n",
            "2025-08-11 07:09:12.707 Thread 'MainThread': missing ScriptRunContext! This warning can be ignored when running in bare mode.\n",
            "2025-08-11 07:09:12.708 Thread 'MainThread': missing ScriptRunContext! This warning can be ignored when running in bare mode.\n",
            "2025-08-11 07:09:12.708 Thread 'MainThread': missing ScriptRunContext! This warning can be ignored when running in bare mode.\n",
            "2025-08-11 07:09:12.709 Thread 'MainThread': missing ScriptRunContext! This warning can be ignored when running in bare mode.\n",
            "2025-08-11 07:09:12.710 Thread 'MainThread': missing ScriptRunContext! This warning can be ignored when running in bare mode.\n",
            "2025-08-11 07:09:12.711 Thread 'MainThread': missing ScriptRunContext! This warning can be ignored when running in bare mode.\n",
            "2025-08-11 07:09:12.711 Thread 'MainThread': missing ScriptRunContext! This warning can be ignored when running in bare mode.\n",
            "2025-08-11 07:09:12.712 Thread 'MainThread': missing ScriptRunContext! This warning can be ignored when running in bare mode.\n",
            "2025-08-11 07:09:12.713 Thread 'MainThread': missing ScriptRunContext! This warning can be ignored when running in bare mode.\n",
            "2025-08-11 07:09:12.713 Thread 'MainThread': missing ScriptRunContext! This warning can be ignored when running in bare mode.\n",
            "2025-08-11 07:09:12.714 Thread 'MainThread': missing ScriptRunContext! This warning can be ignored when running in bare mode.\n",
            "2025-08-11 07:09:12.715 Thread 'MainThread': missing ScriptRunContext! This warning can be ignored when running in bare mode.\n",
            "2025-08-11 07:09:12.717 Thread 'MainThread': missing ScriptRunContext! This warning can be ignored when running in bare mode.\n",
            "2025-08-11 07:09:12.718 Thread 'MainThread': missing ScriptRunContext! This warning can be ignored when running in bare mode.\n",
            "2025-08-11 07:09:12.719 Thread 'MainThread': missing ScriptRunContext! This warning can be ignored when running in bare mode.\n",
            "2025-08-11 07:09:12.720 Thread 'MainThread': missing ScriptRunContext! This warning can be ignored when running in bare mode.\n",
            "2025-08-11 07:09:12.722 Thread 'MainThread': missing ScriptRunContext! This warning can be ignored when running in bare mode.\n",
            "2025-08-11 07:09:12.723 Thread 'MainThread': missing ScriptRunContext! This warning can be ignored when running in bare mode.\n"
          ]
        }
      ]
    },
    {
      "cell_type": "markdown",
      "metadata": {
        "id": "f55741cb"
      },
      "source": [
        "**Reasoning**:\n",
        "Install ngrok in the Colab environment.\n",
        "\n"
      ]
    },
    {
      "cell_type": "code",
      "metadata": {
        "colab": {
          "base_uri": "https://localhost:8080/"
        },
        "id": "giJmhKja9lGb",
        "outputId": "41e127f3-4dc9-4ce6-b659-d3330fc83563"
      },
      "source": [
        "!pip install pyngrok"
      ],
      "execution_count": 8,
      "outputs": [
        {
          "output_type": "stream",
          "name": "stdout",
          "text": [
            "Collecting pyngrok\n",
            "  Downloading pyngrok-7.3.0-py3-none-any.whl.metadata (8.1 kB)\n",
            "Requirement already satisfied: PyYAML>=5.1 in /usr/local/lib/python3.11/dist-packages (from pyngrok) (6.0.2)\n",
            "Downloading pyngrok-7.3.0-py3-none-any.whl (25 kB)\n",
            "Installing collected packages: pyngrok\n",
            "Successfully installed pyngrok-7.3.0\n"
          ]
        }
      ]
    },
    {
      "cell_type": "markdown",
      "metadata": {
        "id": "2748fa7f"
      },
      "source": [
        "**Reasoning**:\n",
        "Run the Streamlit application using `streamlit run app.py` and expose it to the internet via ngrok on port 8501. This will provide a public URL.\n",
        "\n"
      ]
    },
    {
      "cell_type": "code",
      "metadata": {
        "colab": {
          "base_uri": "https://localhost:8080/"
        },
        "id": "8038b10e",
        "outputId": "fb91c119-0659-4bfd-8383-877b47a56861"
      },
      "source": [
        "# Kill any running ngrok processes\n",
        "!pkill ngrok\n",
        "\n",
        "import subprocess\n",
        "import threading\n",
        "import time\n",
        "import sys\n",
        "\n",
        "# Function to run ngrok in a separate thread and capture output\n",
        "def run_ngrok():\n",
        "    # Use npx ngrok http 8501 to avoid needing an authtoken for a basic demo\n",
        "    # --log stdout captures the ngrok output\n",
        "    process = subprocess.Popen(['npx', 'ngrok', 'http', '8501', '--log', 'stdout'], stdout=subprocess.PIPE, stderr=subprocess.STDOUT)\n",
        "    # Capture and print ngrok output in real-time\n",
        "    for line in iter(process.stdout.readline, b''):\n",
        "        print(line.decode('utf-8'), end='', file=sys.stdout)\n",
        "    process.stdout.close()\n",
        "    process.wait()\n",
        "\n",
        "# Start ngrok in a thread\n",
        "ngrok_thread = threading.Thread(target=run_ngrok)\n",
        "ngrok_thread.daemon = True # Allow the main thread to exit even if ngrok is still running\n",
        "ngrok_thread.start()\n",
        "\n",
        "# Give ngrok a moment to start and print the URL\n",
        "time.sleep(5)\n",
        "\n",
        "# Now, run the Streamlit app in the background\n",
        "# Use !streamlit run app.py & to run in the background\n",
        "# We don't need to capture the output of the Streamlit app directly here,\n",
        "# as ngrok is proxying it and its output will be visible via ngrok's log.\n",
        "print(\"Starting Streamlit app...\")\n",
        "!streamlit run app.py &\n",
        "\n",
        "print(\"\\nNgrok tunnel should be starting shortly. Look for a public URL above.\")\n",
        "print(\"You may need to wait a few seconds for the ngrok URL to appear.\")\n",
        "print(\"Access the app using the 'https://...' URL provided by ngrok.\")"
      ],
      "execution_count": 9,
      "outputs": [
        {
          "output_type": "stream",
          "name": "stdout",
          "text": [
            "npm warn exec The following package was not found and will be installed: ngrok@5.0.0-beta.2\n",
            "Starting Streamlit app...\n",
            "Usage: streamlit run [OPTIONS] TARGET [ARGS]...\n",
            "Try 'streamlit run --help' for help.\n",
            "\n",
            "Error: Invalid value: File does not exist: app.py\n",
            "\n",
            "Ngrok tunnel should be starting shortly. Look for a public URL above.\n",
            "You may need to wait a few seconds for the ngrok URL to appear.\n",
            "Access the app using the 'https://...' URL provided by ngrok.\n"
          ]
        }
      ]
    },
    {
      "cell_type": "markdown",
      "metadata": {
        "id": "a4dc14a3"
      },
      "source": [
        "**Reasoning**:\n",
        "The previous attempt failed because `app.py` was not found when `streamlit run` was executed. This indicates the file was likely not saved correctly or the command was run from the wrong directory. I will explicitly save the content to `app.py` using a shell command and then try running ngrok and streamlit again, ensuring `app.py` exists before running.\n",
        "\n"
      ]
    },
    {
      "cell_type": "code",
      "metadata": {
        "colab": {
          "base_uri": "https://localhost:8080/"
        },
        "id": "09d8da29",
        "outputId": "f5c2d658-cb25-4637-f612-b18550f3c834"
      },
      "source": [
        "# Save the Streamlit code to app.py using a shell command\n",
        "streamlit_code = \"\"\"\n",
        "# app.py\n",
        "import streamlit as st\n",
        "import matplotlib.pyplot as plt\n",
        "import pandas as pd\n",
        "from janome.tokenizer import Tokenizer\n",
        "\n",
        "# Hypothetical simple sentiment dictionary (for demonstration)\n",
        "sentiment_dict = {\n",
        "    '良い': 'positive',\n",
        "    '楽しい': 'positive',\n",
        "    '嬉しい': 'positive',\n",
        "    '悲しい': 'negative',\n",
        "    '辛い': 'negative',\n",
        "    '悪い': 'negative',\n",
        "    'まあまあ': 'neutral',\n",
        "    '普通': 'neutral',\n",
        "}\n",
        "\n",
        "def analyze_sentiment_janome(text):\n",
        "    if not text: # Handle empty input\n",
        "        return 'neutral'\n",
        "    t = Tokenizer()\n",
        "    tokens = t.tokenize(text)\n",
        "    sentiment_scores = []\n",
        "    for token in tokens:\n",
        "        base_form = token.base_form if token.base_form else token.surface\n",
        "        if base_form in sentiment_dict:\n",
        "            sentiment_scores.append(sentiment_dict[base_form])\n",
        "\n",
        "    if not sentiment_scores:\n",
        "        return 'neutral'\n",
        "    elif 'positive' in sentiment_scores and 'negative' not in sentiment_scores:\n",
        "        return 'positive'\n",
        "    elif 'negative' in sentiment_scores and 'positive' not in sentiment_scores:\n",
        "        return 'negative'\n",
        "    elif 'positive' in sentiment_scores and 'negative' in sentiment_scores:\n",
        "        return 'neutral' # Or 'mixed'\n",
        "    else:\n",
        "        return 'neutral'\n",
        "\n",
        "# Initialize the storage for comments and sentiments if not already present in session state\n",
        "if 'comments_data' not in st.session_state:\n",
        "    st.session_state['comments_data'] = []\n",
        "\n",
        "st.title(\"Real-time Sentiment Analysis Demo\")\n",
        "user_comment = st.text_area(\"Enter your comment here:\", key=\"comment_input\")\n",
        "\n",
        "if st.button(\"Submit Comment\"):\n",
        "    sentiment_result = analyze_sentiment_janome(user_comment)\n",
        "    st.session_state['comments_data'].append({\n",
        "        'comment': user_comment,\n",
        "        'sentiment': sentiment_result\n",
        "    })\n",
        "    # Clear the text area after submission\n",
        "    st.session_state['comment_input'] = \"\"\n",
        "\n",
        "\n",
        "# Display individual comments and sentiments\n",
        "st.subheader(\"Individual Comments and Sentiments\")\n",
        "if st.session_state['comments_data']:\n",
        "    # Display in reverse order to show latest comments first\n",
        "    for item in reversed(st.session_state['comments_data']):\n",
        "        st.write(f\"Comment: {item['comment']} - Sentiment: {item['sentiment']}\")\n",
        "else:\n",
        "    st.write(\"No comments yet.\")\n",
        "\n",
        "# Calculate sentiment counts\n",
        "sentiment_counts = pd.Series([item['sentiment'] for item in st.session_state['comments_data']]).value_counts()\n",
        "\n",
        "# Create and display visualization\n",
        "st.subheader(\"Sentiment Distribution\")\n",
        "if not sentiment_counts.empty:\n",
        "    fig, ax = plt.subplots()\n",
        "    # Define colors for sentiments\n",
        "    colors = {'positive': 'green', 'negative': 'red', 'neutral': 'gray'}\n",
        "    # Map sentiment labels to colors for plotting\n",
        "    plot_colors = [colors.get(x, 'gray') for x in sentiment_counts.index]\n",
        "\n",
        "    sentiment_counts.plot(kind='bar', ax=ax, color=plot_colors)\n",
        "    ax.set_title(\"Sentiment Distribution\")\n",
        "    ax.set_xlabel(\"Sentiment\")\n",
        "    ax.set_ylabel(\"Count\")\n",
        "    plt.xticks(rotation=0) # Keep labels horizontal\n",
        "    st.pyplot(fig)\n",
        "else:\n",
        "    st.write(\"No data to visualize yet.\")\n",
        "\"\"\"\n",
        "\n",
        "# Use a shell command to write the code to app.py\n",
        "!echo \"\"\"{streamlit_code}\"\"\" > app.py\n",
        "\n",
        "# Verify that the file was created\n",
        "!ls -l app.py\n",
        "\n",
        "# Now, attempt to run ngrok and Streamlit again\n",
        "# Kill any running ngrok processes\n",
        "!pkill ngrok\n",
        "\n",
        "import subprocess\n",
        "import threading\n",
        "import time\n",
        "import sys\n",
        "import os # Import the os module\n",
        "from pyngrok import ngrok\n",
        "from google.colab import userdata\n",
        "\n",
        "# Get the authtoken from Colab secrets\n",
        "NGROK_AUTH_TOKEN = userdata.get('NGROK_AUTH_TOKEN')\n",
        "# Set the authtoken using the correct method\n",
        "ngrok.conf.get_default().auth_token = NGROK_AUTH_TOKEN\n",
        "\n",
        "\n",
        "# Function to run ngrok in a separate thread and capture output\n",
        "def run_ngrok():\n",
        "    # Connect to the Streamlit port (8501)\n",
        "    public_url = ngrok.connect(8501).public_url\n",
        "    print(f\"Ngrok tunnel is live at: {public_url}\")\n",
        "    # Keep the thread alive while ngrok is running\n",
        "    threading.Event().wait()\n",
        "\n",
        "\n",
        "# Start ngrok in a thread\n",
        "ngrok_thread = threading.Thread(target=run_ngrok)\n",
        "ngrok_thread.daemon = True\n",
        "ngrok_thread.start()\n",
        "\n",
        "# Give ngrok a moment to start\n",
        "time.sleep(5)\n",
        "\n",
        "print(\"Starting Streamlit app...\")\n",
        "# Use a different approach to run streamlit in the background that is more reliable\n",
        "# with subprocess and setsid to ensure it runs independently\n",
        "streamlit_process = subprocess.Popen(['streamlit', 'run', 'app.py'], preexec_fn=os.setsid, stdout=subprocess.PIPE, stderr=subprocess.PIPE)\n",
        "\n",
        "print(\"\\nNgrok tunnel should be starting shortly. Look for a public URL above.\")\n",
        "print(\"You may need to wait a few seconds for the ngrok URL to appear.\")\n",
        "print(\"Access the app using the 'https://...' URL provided by ngrok.\")\n",
        "\n",
        "# Optionally, print Streamlit's output for debugging (can be noisy)\n",
        "# for line in iter(streamlit_process.stdout.readline, b''):\n",
        "#     print(f\"Streamlit: {line.decode('utf-8')}\", end='', file=sys.stdout)\n",
        "# for line in iter(streamlit_process.stderr.readline, b''):\n",
        "#     print(f\"Streamlit Error: {line.decode('utf-8')}\", end='', file=sys.stderr)\n",
        "\n",
        "# To keep the Colab notebook running and the app accessible, you might want to add a line\n",
        "# that prevents the kernel from stopping, like a long sleep or a loop that waits for user input\n",
        "# import time\n",
        "# while True:\n",
        "#     time.sleep(1)"
      ],
      "execution_count": 12,
      "outputs": [
        {
          "output_type": "stream",
          "name": "stdout",
          "text": [
            "-rw-r--r-- 1 root root 2977 Aug 11 08:07 app.py\n",
            "Ngrok tunnel is live at: https://db1b5194066e.ngrok-free.app\n",
            "Starting Streamlit app...\n",
            "\n",
            "Ngrok tunnel should be starting shortly. Look for a public URL above.\n",
            "You may need to wait a few seconds for the ngrok URL to appear.\n",
            "Access the app using the 'https://...' URL provided by ngrok.\n"
          ]
        }
      ]
    },
    {
      "cell_type": "markdown",
      "source": [
        "アプリケーションが原因で、Chrome からこのサイトに安全に接続することができません 「Fortinet」がパソコンまたはネットワークに正しくインストールされていません。管理者にこの問題を解決するよう依頼してください。 net::ERR_CERT_AUTHORITY_INVALID\n",
        "\n",
        "It seems like you're encountering a certificate error (net::ERR_CERT_AUTHORITY_INVALID) when trying to access the application. The error message mentions \"Fortinet\" and suggests a problem with its installation.\n",
        "\n",
        "This error is usually related to the network you're connected to, often a corporate or school network with strict security measures like firewalls or web filters that intercept secure connections. The application itself is likely running correctly.\n",
        "\n",
        "To resolve this, you can try:\n",
        "\n",
        "1. Accessing the application from a different network (e.g., your home network, or using mobile data on your phone).\n",
        "2. Trying a different device that might not have the same network restrictions.\n",
        "3. Contacting your network administrator to see if they can allow access to the ngrok URL.\n",
        "\n",
        "Let me know if you're able to access it from a different network!"
      ],
      "metadata": {
        "id": "ORzGbE7kSRAg"
      }
    },
    {
      "cell_type": "code",
      "source": [],
      "metadata": {
        "id": "to-haWEc_nRp"
      },
      "execution_count": null,
      "outputs": []
    }
  ]
}